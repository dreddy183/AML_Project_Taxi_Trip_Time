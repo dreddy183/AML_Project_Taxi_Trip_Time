{
 "cells": [
  {
   "cell_type": "code",
   "execution_count": null,
   "id": "f071068d",
   "metadata": {},
   "outputs": [],
   "source": [
    "import pandas as pd\n",
    "\n"
   ]
  },
  {
   "cell_type": "code",
   "execution_count": null,
   "id": "769ed2c4",
   "metadata": {},
   "outputs": [],
   "source": [
    "# Load train and test data using the full path\n",
    "train_url = 'https://raw.githubusercontent.com/dreddy183/AML_Project_Taxi_Trip_Time/main/train.csv'\n",
    "\n",
    "# Load the CSV into a DataFrame\n",
    "train_data = pd.read_csv(train_url)\n",
    "\n",
    "test_data = pd.read_csv('test.csv')\n",
    "\n",
    "# Inspect the first few rows of each dataset\n",
    "print(\"Train Data Preview:\")\n",
    "print(train_data.head())\n",
    "\n",
    "print(\"\\nTest Data Preview:\")\n",
    "print(test_data.head())\n",
    "\n",
    "# Check for missing values and basic summary\n",
    "print(\"\\nTrain Data Info:\")\n",
    "print(train_data.info())\n",
    "\n",
    "print(\"\\nTest Data Info:\")\n",
    "print(test_data.info())"
   ]
  },
  {
   "cell_type": "code",
   "execution_count": null,
   "id": "3814f175",
   "metadata": {},
   "outputs": [],
   "source": [
    "# Load train and test data using the full path\n",
    "train_url = 'https://raw.githubusercontent.com/dreddy183/AML_Project_Taxi_Trip_Time/main/train.csv'\n",
    "\n",
    "# Load the CSV into a DataFrame\n",
    "train_data = pd.read_csv(train_url)\n",
    "\n",
    "test_data = pd.read_csv('test.csv')\n",
    "\n",
    "# Inspect the first few rows of each dataset\n",
    "print(\"Train Data Preview:\")\n",
    "print(train_data.head())\n",
    "\n",
    "print(\"\\nTest Data Preview:\")\n",
    "print(test_data.head())\n",
    "\n",
    "# Check for missing values and basic summary\n",
    "print(\"\\nTrain Data Info:\")\n",
    "print(train_data.info())\n",
    "\n",
    "print(\"\\nTest Data Info:\")\n",
    "print(test_data.info())"
   ]
  },
  {
   "cell_type": "code",
   "execution_count": 3,
   "id": "b9e7aaea",
   "metadata": {},
   "outputs": [
    {
     "name": "stdout",
     "output_type": "stream",
     "text": [
      "Percentage of missing data per column in Train Dataset:\n",
      "version https://git-lfs.github.com/spec/v1    0.0\n",
      "dtype: float64\n",
      "\n",
      "Overall percentage of missing data in Train Dataset:\n",
      "0.00%\n",
      "\n",
      "Percentage of missing data per column in Test Dataset:\n",
      "TRIP_ID          0.0000\n",
      "CALL_TYPE        0.0000\n",
      "ORIGIN_CALL     77.5000\n",
      "ORIGIN_STAND    61.5625\n",
      "TAXI_ID          0.0000\n",
      "TIMESTAMP        0.0000\n",
      "DAY_TYPE         0.0000\n",
      "MISSING_DATA     0.0000\n",
      "POLYLINE         0.0000\n",
      "dtype: float64\n",
      "\n",
      "Overall percentage of missing data in Test Dataset:\n",
      "15.45%\n"
     ]
    }
   ],
   "source": [
    "# Calculate percentage of missing data per column for train and test datasets\n",
    "train_missing_percent = train_data.isnull().mean() * 100\n",
    "test_missing_percent = test_data.isnull().mean() * 100\n",
    "\n",
    "# Calculate overall percentage of missing data in train and test datasets\n",
    "train_total_missing_percent = train_data.isnull().sum().sum() / (train_data.shape[0] * train_data.shape[1]) * 100\n",
    "test_total_missing_percent = test_data.isnull().sum().sum() / (test_data.shape[0] * test_data.shape[1]) * 100\n",
    "\n",
    "# Display the results\n",
    "print(\"Percentage of missing data per column in Train Dataset:\")\n",
    "print(train_missing_percent)\n",
    "\n",
    "print(\"\\nOverall percentage of missing data in Train Dataset:\")\n",
    "print(f\"{train_total_missing_percent:.2f}%\")\n",
    "\n",
    "print(\"\\nPercentage of missing data per column in Test Dataset:\")\n",
    "print(test_missing_percent)\n",
    "\n",
    "print(\"\\nOverall percentage of missing data in Test Dataset:\")\n",
    "print(f\"{test_total_missing_percent:.2f}%\")"
   ]
  },
  {
   "cell_type": "code",
   "execution_count": null,
   "id": "898798dd",
   "metadata": {},
   "outputs": [],
   "source": []
  },
  {
   "cell_type": "code",
   "execution_count": null,
   "id": "a27f0c82",
   "metadata": {},
   "outputs": [],
   "source": []
  }
 ],
 "metadata": {
  "kernelspec": {
   "display_name": "Python 3 (ipykernel)",
   "language": "python",
   "name": "python3"
  },
  "language_info": {
   "codemirror_mode": {
    "name": "ipython",
    "version": 3
   },
   "file_extension": ".py",
   "mimetype": "text/x-python",
   "name": "python",
   "nbconvert_exporter": "python",
   "pygments_lexer": "ipython3",
   "version": "3.9.13"
  }
 },
 "nbformat": 4,
 "nbformat_minor": 5
}
