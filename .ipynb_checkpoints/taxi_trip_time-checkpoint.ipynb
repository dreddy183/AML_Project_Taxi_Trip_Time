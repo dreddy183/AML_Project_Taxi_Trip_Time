{
 "cells": [
  {
   "cell_type": "code",
   "execution_count": 2,
   "id": "f071068d",
   "metadata": {},
   "outputs": [
    {
     "name": "stdout",
     "output_type": "stream",
     "text": [
      "Train Data Preview:\n",
      "          version https://git-lfs.github.com/spec/v1\n",
      "0  oid sha256:2891d03ea99ce0fc203daedd434848a1a8b...\n",
      "1                                    size 1942848724\n",
      "\n",
      "Test Data Preview:\n",
      "  TRIP_ID CALL_TYPE  ORIGIN_CALL  ORIGIN_STAND   TAXI_ID   TIMESTAMP DAY_TYPE  \\\n",
      "0      T1         B          NaN          15.0  20000542  1408039037        A   \n",
      "1      T2         B          NaN          57.0  20000108  1408038611        A   \n",
      "2      T3         B          NaN          15.0  20000370  1408038568        A   \n",
      "3      T4         B          NaN          53.0  20000492  1408039090        A   \n",
      "4      T5         B          NaN          18.0  20000621  1408039177        A   \n",
      "\n",
      "   MISSING_DATA                                           POLYLINE  \n",
      "0         False  [[-8.585676,41.148522],[-8.585712,41.148639],[...  \n",
      "1         False  [[-8.610876,41.14557],[-8.610858,41.145579],[-...  \n",
      "2         False  [[-8.585739,41.148558],[-8.58573,41.148828],[-...  \n",
      "3         False  [[-8.613963,41.141169],[-8.614125,41.141124],[...  \n",
      "4         False      [[-8.619903,41.148036],[-8.619894,41.148036]]  \n",
      "\n",
      "Train Data Info:\n",
      "<class 'pandas.core.frame.DataFrame'>\n",
      "RangeIndex: 2 entries, 0 to 1\n",
      "Data columns (total 1 columns):\n",
      " #   Column                                      Non-Null Count  Dtype \n",
      "---  ------                                      --------------  ----- \n",
      " 0   version https://git-lfs.github.com/spec/v1  2 non-null      object\n",
      "dtypes: object(1)\n",
      "memory usage: 144.0+ bytes\n",
      "None\n",
      "\n",
      "Test Data Info:\n",
      "<class 'pandas.core.frame.DataFrame'>\n",
      "RangeIndex: 320 entries, 0 to 319\n",
      "Data columns (total 9 columns):\n",
      " #   Column        Non-Null Count  Dtype  \n",
      "---  ------        --------------  -----  \n",
      " 0   TRIP_ID       320 non-null    object \n",
      " 1   CALL_TYPE     320 non-null    object \n",
      " 2   ORIGIN_CALL   72 non-null     float64\n",
      " 3   ORIGIN_STAND  123 non-null    float64\n",
      " 4   TAXI_ID       320 non-null    int64  \n",
      " 5   TIMESTAMP     320 non-null    int64  \n",
      " 6   DAY_TYPE      320 non-null    object \n",
      " 7   MISSING_DATA  320 non-null    bool   \n",
      " 8   POLYLINE      320 non-null    object \n",
      "dtypes: bool(1), float64(2), int64(2), object(4)\n",
      "memory usage: 20.4+ KB\n",
      "None\n"
     ]
    }
   ],
   "source": [
    "import pandas as pd\n",
    "\n",
    "# Load train and test data using the full path\n",
    "train_url = 'https://raw.githubusercontent.com/dreddy183/AML_Project_Taxi_Trip_Time/main/train.csv'\n",
    "\n",
    "# Load the CSV into a DataFrame\n",
    "train_data = pd.read_csv(train_url)\n",
    "\n",
    "test_data = pd.read_csv('test.csv')\n",
    "\n",
    "# Inspect the first few rows of each dataset\n",
    "print(\"Train Data Preview:\")\n",
    "print(train_data.head())\n",
    "\n",
    "print(\"\\nTest Data Preview:\")\n",
    "print(test_data.head())\n",
    "\n",
    "# Check for missing values and basic summary\n",
    "print(\"\\nTrain Data Info:\")\n",
    "print(train_data.info())\n",
    "\n",
    "print(\"\\nTest Data Info:\")\n",
    "print(test_data.info())"
   ]
  },
  {
   "cell_type": "code",
   "execution_count": null,
   "id": "3814f175",
   "metadata": {},
   "outputs": [],
   "source": []
  },
  {
   "cell_type": "code",
   "execution_count": 3,
   "id": "b9e7aaea",
   "metadata": {},
   "outputs": [
    {
     "name": "stdout",
     "output_type": "stream",
     "text": [
      "Percentage of missing data per column in Train Dataset:\n",
      "version https://git-lfs.github.com/spec/v1    0.0\n",
      "dtype: float64\n",
      "\n",
      "Overall percentage of missing data in Train Dataset:\n",
      "0.00%\n",
      "\n",
      "Percentage of missing data per column in Test Dataset:\n",
      "TRIP_ID          0.0000\n",
      "CALL_TYPE        0.0000\n",
      "ORIGIN_CALL     77.5000\n",
      "ORIGIN_STAND    61.5625\n",
      "TAXI_ID          0.0000\n",
      "TIMESTAMP        0.0000\n",
      "DAY_TYPE         0.0000\n",
      "MISSING_DATA     0.0000\n",
      "POLYLINE         0.0000\n",
      "dtype: float64\n",
      "\n",
      "Overall percentage of missing data in Test Dataset:\n",
      "15.45%\n"
     ]
    }
   ],
   "source": [
    "# Calculate percentage of missing data per column for train and test datasets\n",
    "train_missing_percent = train_data.isnull().mean() * 100\n",
    "test_missing_percent = test_data.isnull().mean() * 100\n",
    "\n",
    "# Calculate overall percentage of missing data in train and test datasets\n",
    "train_total_missing_percent = train_data.isnull().sum().sum() / (train_data.shape[0] * train_data.shape[1]) * 100\n",
    "test_total_missing_percent = test_data.isnull().sum().sum() / (test_data.shape[0] * test_data.shape[1]) * 100\n",
    "\n",
    "# Display the results\n",
    "print(\"Percentage of missing data per column in Train Dataset:\")\n",
    "print(train_missing_percent)\n",
    "\n",
    "print(\"\\nOverall percentage of missing data in Train Dataset:\")\n",
    "print(f\"{train_total_missing_percent:.2f}%\")\n",
    "\n",
    "print(\"\\nPercentage of missing data per column in Test Dataset:\")\n",
    "print(test_missing_percent)\n",
    "\n",
    "print(\"\\nOverall percentage of missing data in Test Dataset:\")\n",
    "print(f\"{test_total_missing_percent:.2f}%\")"
   ]
  },
  {
   "cell_type": "code",
   "execution_count": null,
   "id": "898798dd",
   "metadata": {},
   "outputs": [],
   "source": []
  },
  {
   "cell_type": "code",
   "execution_count": null,
   "id": "a27f0c82",
   "metadata": {},
   "outputs": [],
   "source": []
  }
 ],
 "metadata": {
  "kernelspec": {
   "display_name": "Python 3 (ipykernel)",
   "language": "python",
   "name": "python3"
  },
  "language_info": {
   "codemirror_mode": {
    "name": "ipython",
    "version": 3
   },
   "file_extension": ".py",
   "mimetype": "text/x-python",
   "name": "python",
   "nbconvert_exporter": "python",
   "pygments_lexer": "ipython3",
   "version": "3.9.13"
  }
 },
 "nbformat": 4,
 "nbformat_minor": 5
}
