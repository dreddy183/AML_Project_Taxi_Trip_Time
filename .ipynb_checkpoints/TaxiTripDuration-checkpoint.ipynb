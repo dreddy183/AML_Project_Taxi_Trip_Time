{
 "cells": [
  {
   "cell_type": "markdown",
   "metadata": {},
   "source": [
    "# Taxi Trip Time Prediction\n",
    "\n",
    "### Problem Statement\n",
    "\n",
    "Build a predictive framework that is able to infer the trip time of taxi rides in Porto, Portugal\n",
    "\n",
    "### Dataset Description\n",
    "\n",
    "Each data sample corresponds to one completed trip. It contains a total of\n",
    "9 (nine) features, described as follows:\n",
    "\n",
    "TRIP_ID: (String) It contains an unique identifier for each trip;\n",
    "\n",
    "CALL_TYPE: (char) It identifies the way used to demand this service. It may contain one of three possible values:\n",
    "‘A’ if this trip was dispatched from the central;\n",
    "‘B’ if this trip was demanded directly to a taxi driver on a specific stand;\n",
    "‘C’ otherwise (i.e. a trip demanded on a random street).\n",
    "\n",
    "ORIGIN_CALL: (integer) It contains an unique identifier for each phone number which was used to demand, at least, one service. It identifies the trip’s customer if CALL_TYPE=’A’. Otherwise, it assumes a NULL value;\n",
    "\n",
    "ORIGIN_STAND: (integer): It contains an unique identifier for the taxi stand. It identifies the starting point of the trip if \n",
    "CALL_TYPE=’B’. Otherwise, it assumes a NULL value;\n",
    "\n",
    "TAXI_ID: (integer): It contains an unique identifier for the taxi driver that performed each trip;\n",
    "\n",
    "TIMESTAMP: (integer) Unix Timestamp (in seconds). It identifies the trip’s start; \n",
    "\n",
    "DAYTYPE: (char) It identifies the daytype of the trip’s start. It assumes one of three possible values:\n",
    "‘B’ if this trip started on a holiday or any other special day (i.e. extending holidays, floating holidays, etc.);\n",
    "‘C’ if the trip started on a day before a type-B day;\n",
    "‘A’ otherwise (i.e. a normal day, workday or weekend).\n",
    "\n",
    "MISSING_DATA: (Boolean) It is FALSE when the GPS data stream is complete and TRUE whenever one (or more) locations are missing\n",
    "\n",
    "POLYLINE: (String): It contains a list of GPS coordinates (i.e. WGS84 format) mapped as a string. The beginning and the end of the string are identified with brackets (i.e. [ and ], respectively). Each pair of coordinates is also identified by the same brackets as [LONGITUDE, LATITUDE]. This list contains one pair of coordinates for each 15 seconds of trip. The last list item corresponds to the trip’s destination while the first one represents its start;\n",
    "\n",
    "The total travel time of the trip (the prediction target of this competition) is defined as the (number of points-1) x 15 seconds. For example, a trip with 101 data points in POLYLINE has a length of (101-1) * 15 = 1500 seconds. Some trips have missing data points in POLYLINE, indicated by MISSING_DATA column, and it is part of the challenge how you utilize this knowledge. "
   ]
  },
  {
   "cell_type": "markdown",
   "metadata": {},
   "source": [
    "### Dataset Loading"
   ]
  },
  {
   "cell_type": "code",
   "execution_count": null,
   "metadata": {},
   "outputs": [],
   "source": [
    "import pandas as pd\n",
    "\n",
    "train_data_path = 'https://raw.githubusercontent.com/dreddy183/AML_Project_Taxi_Trip_Time/main/train.csv'\n",
    "test_data_path = 'test.csv'\n",
    "\n",
    "# Load the data into pandas DataFrames\n",
    "train = pd.read_csv(train_data_path)\n",
    "test = pd.read_csv(test_data_path)\n",
    "# Load the metadata file for taxi stand information\n",
    "metadata = pd.read_csv('metaData_taxistandsID_name_GPSlocation.csv')\n",
    "\n",
    "train.head()"
   ]
  },
  {
   "cell_type": "markdown",
   "metadata": {},
   "source": [
    "### Dataset Information"
   ]
  },
  {
   "cell_type": "code",
   "execution_count": 2,
   "metadata": {},
   "outputs": [
    {
     "name": "stdout",
     "output_type": "stream",
     "text": [
      "Train Dataset Info:\n",
      "<class 'pandas.core.frame.DataFrame'>\n",
      "RangeIndex: 1710670 entries, 0 to 1710669\n",
      "Data columns (total 9 columns):\n",
      " #   Column        Dtype  \n",
      "---  ------        -----  \n",
      " 0   TRIP_ID       int64  \n",
      " 1   CALL_TYPE     object \n",
      " 2   ORIGIN_CALL   float64\n",
      " 3   ORIGIN_STAND  float64\n",
      " 4   TAXI_ID       int64  \n",
      " 5   TIMESTAMP     int64  \n",
      " 6   DAY_TYPE      object \n",
      " 7   MISSING_DATA  bool   \n",
      " 8   POLYLINE      object \n",
      "dtypes: bool(1), float64(2), int64(3), object(3)\n",
      "memory usage: 106.0+ MB\n",
      "None\n",
      "\n",
      "Test Dataset Info:\n",
      "<class 'pandas.core.frame.DataFrame'>\n",
      "RangeIndex: 320 entries, 0 to 319\n",
      "Data columns (total 9 columns):\n",
      " #   Column        Non-Null Count  Dtype  \n",
      "---  ------        --------------  -----  \n",
      " 0   TRIP_ID       320 non-null    object \n",
      " 1   CALL_TYPE     320 non-null    object \n",
      " 2   ORIGIN_CALL   72 non-null     float64\n",
      " 3   ORIGIN_STAND  123 non-null    float64\n",
      " 4   TAXI_ID       320 non-null    int64  \n",
      " 5   TIMESTAMP     320 non-null    int64  \n",
      " 6   DAY_TYPE      320 non-null    object \n",
      " 7   MISSING_DATA  320 non-null    bool   \n",
      " 8   POLYLINE      320 non-null    object \n",
      "dtypes: bool(1), float64(2), int64(2), object(4)\n",
      "memory usage: 20.4+ KB\n",
      "None\n",
      "\n",
      "First few rows of the Train Dataset:\n",
      "               TRIP_ID CALL_TYPE  ORIGIN_CALL  ORIGIN_STAND   TAXI_ID  \\\n",
      "0  1372636858620000589         C          NaN           NaN  20000589   \n",
      "1  1372637303620000596         B          NaN           7.0  20000596   \n",
      "2  1372636951620000320         C          NaN           NaN  20000320   \n",
      "3  1372636854620000520         C          NaN           NaN  20000520   \n",
      "4  1372637091620000337         C          NaN           NaN  20000337   \n",
      "\n",
      "    TIMESTAMP DAY_TYPE  MISSING_DATA  \\\n",
      "0  1372636858        A         False   \n",
      "1  1372637303        A         False   \n",
      "2  1372636951        A         False   \n",
      "3  1372636854        A         False   \n",
      "4  1372637091        A         False   \n",
      "\n",
      "                                            POLYLINE  \n",
      "0  [[-8.618643,41.141412],[-8.618499,41.141376],[...  \n",
      "1  [[-8.639847,41.159826],[-8.640351,41.159871],[...  \n",
      "2  [[-8.612964,41.140359],[-8.613378,41.14035],[-...  \n",
      "3  [[-8.574678,41.151951],[-8.574705,41.151942],[...  \n",
      "4  [[-8.645994,41.18049],[-8.645949,41.180517],[-...  \n",
      "\n",
      "First few rows of the Test Dataset:\n",
      "  TRIP_ID CALL_TYPE  ORIGIN_CALL  ORIGIN_STAND   TAXI_ID   TIMESTAMP DAY_TYPE  \\\n",
      "0      T1         B          NaN          15.0  20000542  1408039037        A   \n",
      "1      T2         B          NaN          57.0  20000108  1408038611        A   \n",
      "2      T3         B          NaN          15.0  20000370  1408038568        A   \n",
      "3      T4         B          NaN          53.0  20000492  1408039090        A   \n",
      "4      T5         B          NaN          18.0  20000621  1408039177        A   \n",
      "\n",
      "   MISSING_DATA                                           POLYLINE  \n",
      "0         False  [[-8.585676,41.148522],[-8.585712,41.148639],[...  \n",
      "1         False  [[-8.610876,41.14557],[-8.610858,41.145579],[-...  \n",
      "2         False  [[-8.585739,41.148558],[-8.58573,41.148828],[-...  \n",
      "3         False  [[-8.613963,41.141169],[-8.614125,41.141124],[...  \n",
      "4         False      [[-8.619903,41.148036],[-8.619894,41.148036]]  \n"
     ]
    }
   ],
   "source": [
    "# Display information about the datasets\n",
    "print(\"Train Dataset Info:\")\n",
    "print(train.info())\n",
    "\n",
    "print(\"\\nTest Dataset Info:\")\n",
    "print(test.info())\n",
    "\n",
    "# Display the first few rows of each dataset for inspection\n",
    "print(\"\\nFirst few rows of the Train Dataset:\")\n",
    "print(train.head())\n",
    "\n",
    "print(\"\\nFirst few rows of the Test Dataset:\")\n",
    "print(test.head())"
   ]
  },
  {
   "cell_type": "markdown",
   "metadata": {},
   "source": [
    "### Duplicate Data"
   ]
  },
  {
   "cell_type": "code",
   "execution_count": 3,
   "metadata": {},
   "outputs": [],
   "source": [
    "train.drop_duplicates(inplace=True)\n",
    "test.drop_duplicates(inplace=True)"
   ]
  },
  {
   "cell_type": "markdown",
   "metadata": {},
   "source": [
    "### Check Missing Values"
   ]
  },
  {
   "cell_type": "code",
   "execution_count": 4,
   "metadata": {},
   "outputs": [
    {
     "name": "stdout",
     "output_type": "stream",
     "text": [
      "Percentage of missing data per column in Train Dataset:\n",
      "TRIP_ID          0.000000\n",
      "CALL_TYPE        0.000000\n",
      "ORIGIN_CALL     78.676738\n",
      "ORIGIN_STAND    52.850029\n",
      "TAXI_ID          0.000000\n",
      "TIMESTAMP        0.000000\n",
      "DAY_TYPE         0.000000\n",
      "MISSING_DATA     0.000000\n",
      "POLYLINE         0.000000\n",
      "dtype: float64\n",
      "\n",
      "Overall percentage of missing data in Train Dataset:\n",
      "14.61%\n",
      "\n",
      "Percentage of missing data per column in Test Dataset:\n",
      "TRIP_ID          0.0000\n",
      "CALL_TYPE        0.0000\n",
      "ORIGIN_CALL     77.5000\n",
      "ORIGIN_STAND    61.5625\n",
      "TAXI_ID          0.0000\n",
      "TIMESTAMP        0.0000\n",
      "DAY_TYPE         0.0000\n",
      "MISSING_DATA     0.0000\n",
      "POLYLINE         0.0000\n",
      "dtype: float64\n",
      "\n",
      "Overall percentage of missing data in Test Dataset:\n",
      "15.45%\n"
     ]
    }
   ],
   "source": [
    "# Calculate percentage of missing data per column for train and test datasets\n",
    "train_missing_percent = train.isnull().mean() * 100\n",
    "test_missing_percent = test.isnull().mean() * 100\n",
    "\n",
    "# Calculate overall percentage of missing data in train and test datasets\n",
    "train_total_missing_percent = train.isnull().sum().sum() / (train.shape[0] * train.shape[1]) * 100\n",
    "test_total_missing_percent = test.isnull().sum().sum() / (test.shape[0] * test.shape[1]) * 100\n",
    "\n",
    "# Display the results\n",
    "print(\"Percentage of missing data per column in Train Dataset:\")\n",
    "print(train_missing_percent)\n",
    "\n",
    "print(\"\\nOverall percentage of missing data in Train Dataset:\")\n",
    "print(f\"{train_total_missing_percent:.2f}%\")\n",
    "\n",
    "print(\"\\nPercentage of missing data per column in Test Dataset:\")\n",
    "print(test_missing_percent)\n",
    "\n",
    "print(\"\\nOverall percentage of missing data in Test Dataset:\")\n",
    "print(f\"{test_total_missing_percent:.2f}%\")"
   ]
  },
  {
   "cell_type": "markdown",
   "metadata": {},
   "source": [
    "#### Exploratory Data Analysis"
   ]
  },
  {
   "cell_type": "code",
   "execution_count": 5,
   "metadata": {},
   "outputs": [],
   "source": [
    "import seaborn as sns\n",
    "import matplotlib.pyplot as plt\n",
    "import numpy as np\n"
   ]
  },
  {
   "cell_type": "code",
   "execution_count": 6,
   "metadata": {},
   "outputs": [
    {
     "data": {
      "image/png": "[encoded data removed]",
      "text/plain": [
       "<Figure size 1000x800 with 1 Axes>"
      ]
     },
     "metadata": {},
     "output_type": "display_data"
    }
   ],
   "source": [
    "call_type = train['CALL_TYPE'].value_counts()\n",
    "\n",
    "plt.figure(figsize=(10, 8))\n",
    "plt.bar(call_type.index, call_type.values)\n",
    "plt.gca().set_facecolor(\"lightgrey\")\n",
    "plt.xlabel('Call Type')\n",
    "plt.ylabel('Count')\n",
    "plt.title('Call Type Distribution')\n",
    "\n",
    "# Show the plot\n",
    "plt.show()"
   ]
  },
  {
   "cell_type": "code",
   "execution_count": 7,
   "metadata": {},
   "outputs": [
    {
     "name": "stdout",
     "output_type": "stream",
     "text": [
      "10 Number of times the GPS track the trip.\n"
     ]
    }
   ],
   "source": [
    "missing_count = train['MISSING_DATA'].sum()\n",
    "print(f'{missing_count} Number of times the GPS track the trip.')"
   ]
  },
  {
   "cell_type": "code",
   "execution_count": 8,
   "metadata": {},
   "outputs": [
    {
     "name": "stdout",
     "output_type": "stream",
     "text": [
      "Missing Original Call : 1345897\n",
      "Missing Original stand : 904088\n",
      "Number of unique calls made :  57105\n",
      "Number of taxi stand where customer was picked : 63\n"
     ]
    }
   ],
   "source": [
    "missing_call = train['ORIGIN_CALL'].isnull().sum()\n",
    "missing_count = train['ORIGIN_STAND'].isnull().sum()\n",
    "print(f'Missing Original Call : {missing_call}')\n",
    "print(f'Missing Original stand : {missing_count}')\n",
    "\n",
    "unique_calls = train['ORIGIN_CALL'].nunique()\n",
    "unique_stands = train['ORIGIN_STAND'].nunique()\n",
    "\n",
    "print(f'Number of unique calls made :  {unique_calls}')\n",
    "print(f'Number of taxi stand where customer was picked : {unique_stands}')"
   ]
  },
  {
   "cell_type": "markdown",
   "metadata": {},
   "source": [
    "### Data Preprocessing"
   ]
  },
  {
   "cell_type": "markdown",
   "metadata": {},
   "source": [
    "##### Convert the Unix timestamps to human-readable dates and extracting temporal features"
   ]
  },
  {
   "cell_type": "code",
   "execution_count": 9,
   "metadata": {},
   "outputs": [],
   "source": [
    "from datetime import datetime\n",
    "import ast\n",
    "import seaborn as sns\n",
    "import matplotlib.pyplot as plt\n",
    "\n",
    "train['DATETIME'] = pd.to_datetime(train['TIMESTAMP'], unit='s')\n",
    "test['DATETIME'] = pd.to_datetime(test['TIMESTAMP'], unit='s')\n",
    "train['HOUR'] = train['DATETIME'].dt.hour\n",
    "train['DAY_OF_WEEK'] = train['DATETIME'].dt.dayofweek  # Monday=0, Sunday=6\n",
    "train['MONTH'] = train['DATETIME'].dt.month\n",
    "train['WEEK_OF_YEAR'] = train['DATETIME'].dt.isocalendar().week.astype(int)\n",
    "\n",
    "test['HOUR'] = test['DATETIME'].dt.hour\n",
    "test['DAY_OF_WEEK'] = test['DATETIME'].dt.dayofweek\n",
    "test['MONTH'] = test['DATETIME'].dt.month\n",
    "test['WEEK_OF_YEAR'] = test['DATETIME'].dt.isocalendar().week.astype(int)"
   ]
  },
  {
   "cell_type": "code",
   "execution_count": 10,
   "metadata": {},
   "outputs": [
    {
     "data": {
      "image/png": "[encoded data removed]",
      "text/plain": [
       "<Figure size 640x480 with 2 Axes>"
      ]
     },
     "metadata": {},
     "output_type": "display_data"
    }
   ],
   "source": [
    "numeric_train = train.select_dtypes(include=[np.number])\n",
    "corr_matrix = numeric_train.corr()\n",
    "\n",
    "ax = sns.heatmap(corr_matrix, annot=True, fmt=\".2f\")\n",
    "plt.title(\"Correlation Matrix\")\n",
    "plt.show()"
   ]
  },
  {
   "cell_type": "markdown",
   "metadata": {},
   "source": [
    "#### Extract Spatial Features from POLYLINE\n",
    "\n",
    "Start coordinates\n",
    "End coordinates (for training only, as test is partial)\n",
    "Distance traveled (for training)\n",
    "Average speed (for training)\n",
    "For partial polylines in the test set, you may want to just extract start and last-known coordinates."
   ]
  },
  {
   "cell_type": "code",
   "execution_count": 11,
   "metadata": {},
   "outputs": [],
   "source": [
    "def parse_polyline(poly_str):\n",
    "    # Convert from string to list\n",
    "    # Some rows may be empty or malformed; handle exceptions\n",
    "    try:\n",
    "        poly = ast.literal_eval(poly_str)\n",
    "        if len(poly) == 0:\n",
    "            return np.nan\n",
    "        return poly\n",
    "    except:\n",
    "        return np.nan\n",
    "\n",
    "train['POLYLINE_LIST'] = train['POLYLINE'].apply(parse_polyline)\n",
    "test['POLYLINE_LIST'] = test['POLYLINE'].apply(parse_polyline)\n",
    "\n",
    "# Extract start coordinates\n",
    "train['START_LON'] = train['POLYLINE_LIST'].apply(lambda x: x[0][0] if isinstance(x, list) and len(x)>0 else np.nan)\n",
    "train['START_LAT'] = train['POLYLINE_LIST'].apply(lambda x: x[0][1] if isinstance(x, list) and len(x)>0 else np.nan)\n",
    "\n",
    "test['START_LON'] = test['POLYLINE_LIST'].apply(lambda x: x[0][0] if isinstance(x, list) and len(x)>0 else np.nan)\n",
    "test['START_LAT'] = test['POLYLINE_LIST'].apply(lambda x: x[0][1] if isinstance(x, list) and len(x)>0 else np.nan)\n",
    "\n",
    "# Extract end coordinates (only for training, since test trips may be incomplete)\n",
    "train['END_LON'] = train['POLYLINE_LIST'].apply(lambda x: x[-1][0] if isinstance(x, list) and len(x)>0 else np.nan)\n",
    "train['END_LAT'] = train['POLYLINE_LIST'].apply(lambda x: x[-1][1] if isinstance(x, list) and len(x)>0 else np.nan)\n"
   ]
  },
  {
   "cell_type": "markdown",
   "metadata": {},
   "source": [
    "##### This code first filters out rows with invalid final longitude data. It computes the horizontal (longitude) and vertical (latitude) displacement (delta) between the starting and ending points of each trip."
   ]
  },
  {
   "cell_type": "code",
   "execution_count": 12,
   "metadata": {},
   "outputs": [],
   "source": [
    "#drop rows where polyline is empty or invalid\n",
    "train = train[train['POLYLINE_LIST'].notna()]\n",
    "train = train.query(\"END_LON != 0\")\n",
    "train['delta_lon'] = train['END_LON'] - train['START_LON']\n",
    "train['delta_lat'] = train['END_LAT'] - train['START_LAT']\n",
    "\n",
    "# Trip time in seconds: (number_of_points - 1) * 15\n",
    "train['TRIP_DURATION'] = train['POLYLINE_LIST'].apply(lambda x: (len(x)-1)*15 if isinstance(x, list) and len(x)>1 else np.nan)\n"
   ]
  },
  {
   "cell_type": "markdown",
   "metadata": {},
   "source": [
    "##### Handle Missing Values and process Categorical Features"
   ]
  },
  {
   "cell_type": "code",
   "execution_count": 13,
   "metadata": {},
   "outputs": [],
   "source": [
    "# Filter out outliers in delta_lon and delta_lat\n",
    "train = train.query(\"delta_lon <= 0.2 & delta_lon >= -0.2 & delta_lat <= 0.2 & delta_lat >= -0.2\")\n",
    "\n",
    "# Map CALL_TYPE values to numeric codes\n",
    "map_call = {\"A\": 1, \"B\": 2, \"C\": 3}\n",
    "train[\"Call_type\"] = train[\"CALL_TYPE\"].map(map_call)\n",
    "\n",
    "# Convert ORIGIN_CALL to a binary flag: 1 if not None, 0 if None\n",
    "def origin_call_flg(x):\n",
    "    return 0 if x[\"ORIGIN_CALL\"] is None else 1\n",
    "train[\"ORIGIN_CALL\"] = train.apply(origin_call_flg, axis=1)\n",
    "\n",
    "# Convert ORIGIN_STAND to a binary flag: 1 if not None, 0 if None\n",
    "def origin_stand_flg(x):\n",
    "    return 0 if x[\"ORIGIN_STAND\"] is None else 1\n",
    "train[\"ORIGIN_STAND\"] = train.apply(origin_stand_flg, axis=1)\n",
    "\n",
    "# Drop DAY_TYPE column if it provides no variability\n",
    "if \"DAY_TYPE\" in train.columns:\n",
    "    train.drop(\"DAY_TYPE\", axis=1, inplace=True)\n",
    "\n",
    "# Convert MISSING_DATA to a binary flag: 0 if \"False\", 1 otherwise\n",
    "def miss_flg(x):\n",
    "    return 0 if x[\"MISSING_DATA\"] == \"False\" else 1\n",
    "train[\"MISSING_DATA\"] = train.apply(miss_flg, axis=1)\n",
    "\n",
    "#Map CALL_TYPE values to numeric codes\n",
    "map_call = {\"A\": 1, \"B\": 2, \"C\": 3}\n",
    "test[\"Call_type\"] = test[\"CALL_TYPE\"].map(map_call)\n",
    "\n",
    "# Convert ORIGIN_CALL to a binary flag: 1 if not None, 0 if None\n",
    "def origin_call_flg(x):\n",
    "    return 0 if x[\"ORIGIN_CALL\"] is None else 1\n",
    "test[\"ORIGIN_CALL\"] = test.apply(origin_call_flg, axis=1)\n",
    "\n",
    "# Convert ORIGIN_STAND to a binary flag: 1 if not None, 0 if None\n",
    "def origin_stand_flg(x):\n",
    "    return 0 if x[\"ORIGIN_STAND\"] is None else 1\n",
    "test[\"ORIGIN_STAND\"] = test.apply(origin_stand_flg, axis=1)\n",
    "\n",
    "# Drop DAY_TYPE column if it provides no variability\n",
    "if \"DAY_TYPE\" in test.columns:\n",
    "    test.drop(\"DAY_TYPE\", axis=1, inplace=True)\n",
    "\n",
    "# Convert MISSING_DATA to a binary flag: 0 if \"False\", 1 otherwise\n",
    "def miss_flg(x):\n",
    "    return 0 if x[\"MISSING_DATA\"] == \"False\" else 1\n",
    "test[\"MISSING_DATA\"] = test.apply(miss_flg, axis=1)\n",
    "\n"
   ]
  },
  {
   "cell_type": "markdown",
   "metadata": {},
   "source": [
    "#### Compute Haversine Distance\n",
    "The haversine formula is used to calculate the great-circle distance between two points on a sphere from their longitudes and latitudes."
   ]
  },
  {
   "cell_type": "code",
   "execution_count": 14,
   "metadata": {},
   "outputs": [],
   "source": [
    "import numpy as np\n",
    "from math import radians, sin, cos, sqrt, atan2\n",
    "from pandarallel import pandarallel\n",
    "\n",
    "def haversine_vectorized(lon1, lat1, lon2, lat2):\n",
    "    R = 6371e3  # Earth radius in meters\n",
    "    # Convert degrees to radians\n",
    "    lon1, lat1, lon2, lat2 = map(np.radians, [lon1, lat1, lon2, lat2])\n",
    "    \n",
    "    dlon = lon2 - lon1\n",
    "    dlat = lat2 - lat1\n",
    "\n",
    "    a = np.sin(dlat/2)**2 + np.cos(lat1)*np.cos(lat2)*np.sin(dlon/2)**2\n",
    "    c = 2 * np.arctan2(np.sqrt(a), np.sqrt(1 - a))\n",
    "    distances = R * c\n",
    "    return distances\n",
    "\n",
    "def total_route_distance_vectorized(poly):\n",
    "    if not isinstance(poly, list) or len(poly) < 2:\n",
    "        return np.nan\n",
    "    coords = np.array(poly)\n",
    "    # coords is an N x 2 array: [[lon1, lat1], [lon2, lat2], ...]\n",
    "    lons = coords[:, 0]\n",
    "    lats = coords[:, 1]\n",
    "\n",
    "    # Compute haversine distance for all consecutive pairs in one go\n",
    "    dist_array = haversine_vectorized(lons[:-1], lats[:-1], lons[1:], lats[1:])\n",
    "    return dist_array.sum()\n",
    "\n",
    "\n",
    "train['TOTAL_DISTANCE'] = train['POLYLINE_LIST'].apply(total_route_distance_vectorized)\n",
    "test['TOTAL_DISTANCE'] = test['POLYLINE_LIST'].apply(total_route_distance_vectorized)"
   ]
  },
  {
   "cell_type": "markdown",
   "metadata": {},
   "source": [
    "#### Calculte bearing distance \n",
    "Bearing refers to the direction from one point to another point on the Earth’s surface, usually expressed as an angle relative to north. "
   ]
  },
  {
   "cell_type": "code",
   "execution_count": 15,
   "metadata": {},
   "outputs": [],
   "source": [
    "import math\n",
    "\n",
    "def calculate_bearing(lon1, lat1, lon2, lat2):\n",
    "    \"\"\"\n",
    "    Calculate the bearing from the point (lat1, lon1) to (lat2, lon2).\n",
    "    Bearing is returned in degrees from North (0°) clockwise.\n",
    "    \"\"\"\n",
    "    # Convert degrees to radians\n",
    "    lon1, lat1, lon2, lat2 = map(math.radians, [lon1, lat1, lon2, lat2])\n",
    "\n",
    "    d_lon = lon2 - lon1\n",
    "    y = math.sin(d_lon) * math.cos(lat2)\n",
    "    x = math.cos(lat1)*math.sin(lat2) - math.sin(lat1)*math.cos(lat2)*math.cos(d_lon)\n",
    "    bearing = math.degrees(math.atan2(y, x))\n",
    "    \n",
    "    # Normalize bearing to 0-360 degrees\n",
    "    bearing = (bearing + 360) % 360\n",
    "    return bearing"
   ]
  },
  {
   "cell_type": "code",
   "execution_count": 16,
   "metadata": {},
   "outputs": [],
   "source": [
    "# Compute bearing for the training data\n",
    "train['BEARING'] = train.apply(lambda row: \n",
    "                               calculate_bearing(row['START_LON'], row['START_LAT'], \n",
    "                                                 row['END_LON'], row['END_LAT'])\n",
    "                               if not pd.isnull(row['START_LON']) and not pd.isnull(row['END_LON']) \n",
    "                               else np.nan, axis=1)\n",
    "# For test data, use the last known coordinate as an end point\n",
    "test['BEARING'] = test.apply(lambda row: \n",
    "                             calculate_bearing(row['START_LON'], row['START_LAT'], \n",
    "                                               row['START_LON'] if pd.isnull(row.get('END_LON', np.nan)) else row['END_LON'],\n",
    "                                               row['START_LAT'] if pd.isnull(row.get('END_LAT', np.nan)) else row['END_LAT'])\n",
    "                             if not pd.isnull(row['START_LON']) and not pd.isnull(row['START_LAT']) else np.nan, axis=1)\n"
   ]
  },
  {
   "cell_type": "markdown",
   "metadata": {},
   "source": [
    "#### Calculate Speed"
   ]
  },
  {
   "cell_type": "code",
   "execution_count": 17,
   "metadata": {},
   "outputs": [],
   "source": [
    "test['TRIP_DURATION'] = test['POLYLINE_LIST'].apply(lambda x: (len(x)-1)*15 if isinstance(x, list) and len(x)>1 else np.nan)\n",
    "\n",
    "# For train\n",
    "train['AVG_SPEED'] = train.apply(lambda row: (row['TOTAL_DISTANCE'] / row['TRIP_DURATION']) if row['TRIP_DURATION'] > 0 else np.nan, axis=1)\n",
    "test['AVG_SPEED'] = test.apply(lambda row: (row['TOTAL_DISTANCE'] / row['TRIP_DURATION']) if row['TRIP_DURATION'] > 0 else np.nan, axis=1)"
   ]
  },
  {
   "cell_type": "code",
   "execution_count": 18,
   "metadata": {},
   "outputs": [
    {
     "name": "stdout",
     "output_type": "stream",
     "text": [
      "<class 'pandas.core.frame.DataFrame'>\n",
      "Index: 1699675 entries, 0 to 1710669\n",
      "Data columns (total 25 columns):\n",
      " #   Column          Dtype         \n",
      "---  ------          -----         \n",
      " 0   TRIP_ID         int64         \n",
      " 1   CALL_TYPE       object        \n",
      " 2   ORIGIN_CALL     int64         \n",
      " 3   ORIGIN_STAND    int64         \n",
      " 4   TAXI_ID         int64         \n",
      " 5   TIMESTAMP       int64         \n",
      " 6   MISSING_DATA    int64         \n",
      " 7   POLYLINE        object        \n",
      " 8   DATETIME        datetime64[ns]\n",
      " 9   HOUR            int32         \n",
      " 10  DAY_OF_WEEK     int32         \n",
      " 11  MONTH           int32         \n",
      " 12  WEEK_OF_YEAR    int64         \n",
      " 13  POLYLINE_LIST   object        \n",
      " 14  START_LON       float64       \n",
      " 15  START_LAT       float64       \n",
      " 16  END_LON         float64       \n",
      " 17  END_LAT         float64       \n",
      " 18  delta_lon       float64       \n",
      " 19  delta_lat       float64       \n",
      " 20  TRIP_DURATION   float64       \n",
      " 21  Call_type       int64         \n",
      " 22  TOTAL_DISTANCE  float64       \n",
      " 23  BEARING         float64       \n",
      " 24  AVG_SPEED       float64       \n",
      "dtypes: datetime64[ns](1), float64(10), int32(3), int64(8), object(3)\n",
      "memory usage: 317.7+ MB\n",
      "<class 'pandas.core.frame.DataFrame'>\n",
      "RangeIndex: 320 entries, 0 to 319\n",
      "Data columns (total 21 columns):\n",
      " #   Column          Non-Null Count  Dtype         \n",
      "---  ------          --------------  -----         \n",
      " 0   TRIP_ID         320 non-null    object        \n",
      " 1   CALL_TYPE       320 non-null    object        \n",
      " 2   ORIGIN_CALL     320 non-null    int64         \n",
      " 3   ORIGIN_STAND    320 non-null    int64         \n",
      " 4   TAXI_ID         320 non-null    int64         \n",
      " 5   TIMESTAMP       320 non-null    int64         \n",
      " 6   MISSING_DATA    320 non-null    int64         \n",
      " 7   POLYLINE        320 non-null    object        \n",
      " 8   DATETIME        320 non-null    datetime64[ns]\n",
      " 9   HOUR            320 non-null    int32         \n",
      " 10  DAY_OF_WEEK     320 non-null    int32         \n",
      " 11  MONTH           320 non-null    int32         \n",
      " 12  WEEK_OF_YEAR    320 non-null    int64         \n",
      " 13  POLYLINE_LIST   320 non-null    object        \n",
      " 14  START_LON       320 non-null    float64       \n",
      " 15  START_LAT       320 non-null    float64       \n",
      " 16  Call_type       320 non-null    int64         \n",
      " 17  TOTAL_DISTANCE  318 non-null    float64       \n",
      " 18  BEARING         320 non-null    float64       \n",
      " 19  TRIP_DURATION   318 non-null    float64       \n",
      " 20  AVG_SPEED       318 non-null    float64       \n",
      "dtypes: datetime64[ns](1), float64(6), int32(3), int64(7), object(4)\n",
      "memory usage: 48.9+ KB\n"
     ]
    }
   ],
   "source": [
    "train.info()\n",
    "test.info()"
   ]
  },
  {
   "cell_type": "code",
   "execution_count": 19,
   "metadata": {},
   "outputs": [
    {
     "name": "stdout",
     "output_type": "stream",
     "text": [
      "Train columns: Index(['TRIP_ID', 'CALL_TYPE', 'ORIGIN_CALL', 'ORIGIN_STAND', 'TAXI_ID',\n",
      "       'TIMESTAMP', 'MISSING_DATA', 'POLYLINE', 'DATETIME', 'HOUR',\n",
      "       'DAY_OF_WEEK', 'MONTH', 'WEEK_OF_YEAR', 'POLYLINE_LIST', 'START_LON',\n",
      "       'START_LAT', 'END_LON', 'END_LAT', 'delta_lon', 'delta_lat',\n",
      "       'TRIP_DURATION', 'Call_type', 'TOTAL_DISTANCE', 'BEARING', 'AVG_SPEED'],\n",
      "      dtype='object')\n",
      "Test columns: Index(['TRIP_ID', 'CALL_TYPE', 'ORIGIN_CALL', 'ORIGIN_STAND', 'TAXI_ID',\n",
      "       'TIMESTAMP', 'MISSING_DATA', 'POLYLINE', 'DATETIME', 'HOUR',\n",
      "       'DAY_OF_WEEK', 'MONTH', 'WEEK_OF_YEAR', 'POLYLINE_LIST', 'START_LON',\n",
      "       'START_LAT', 'Call_type', 'TOTAL_DISTANCE', 'BEARING', 'TRIP_DURATION',\n",
      "       'AVG_SPEED'],\n",
      "      dtype='object')\n"
     ]
    }
   ],
   "source": [
    "import pandas as pd\n",
    "import numpy as np\n",
    "from sklearn.ensemble import RandomForestRegressor\n",
    "from sklearn.model_selection import train_test_split\n",
    "from sklearn.metrics import mean_absolute_error, mean_squared_error, r2_score\n",
    "import math\n",
    "\n",
    "# Assuming 'train' and 'test' DataFrames are already loaded with columns shown in the info.\n",
    "\n",
    "# Check which features are present in both train and test\n",
    "print(\"Train columns:\", train.columns)\n",
    "print(\"Test columns:\", test.columns)"
   ]
  },
  {
   "cell_type": "code",
   "execution_count": 20,
   "metadata": {},
   "outputs": [
    {
     "name": "stdout",
     "output_type": "stream",
     "text": [
      "Percentage of missing data per column in Train Dataset:\n",
      "TRIP_ID           0.0\n",
      "CALL_TYPE         0.0\n",
      "ORIGIN_CALL       0.0\n",
      "ORIGIN_STAND      0.0\n",
      "TAXI_ID           0.0\n",
      "TIMESTAMP         0.0\n",
      "MISSING_DATA      0.0\n",
      "POLYLINE          0.0\n",
      "DATETIME          0.0\n",
      "HOUR              0.0\n",
      "DAY_OF_WEEK       0.0\n",
      "MONTH             0.0\n",
      "WEEK_OF_YEAR      0.0\n",
      "POLYLINE_LIST     0.0\n",
      "START_LON         0.0\n",
      "START_LAT         0.0\n",
      "END_LON           0.0\n",
      "END_LAT           0.0\n",
      "delta_lon         0.0\n",
      "delta_lat         0.0\n",
      "TRIP_DURATION     0.0\n",
      "Call_type         0.0\n",
      "TOTAL_DISTANCE    0.0\n",
      "BEARING           0.0\n",
      "AVG_SPEED         0.0\n",
      "dtype: float64\n",
      "\n",
      "Overall percentage of missing data in Train Dataset:\n",
      "0.00%\n",
      "\n",
      "Percentage of missing data per column in Test Dataset:\n",
      "TRIP_ID           0.0\n",
      "CALL_TYPE         0.0\n",
      "ORIGIN_CALL       0.0\n",
      "ORIGIN_STAND      0.0\n",
      "TAXI_ID           0.0\n",
      "TIMESTAMP         0.0\n",
      "MISSING_DATA      0.0\n",
      "POLYLINE          0.0\n",
      "DATETIME          0.0\n",
      "HOUR              0.0\n",
      "DAY_OF_WEEK       0.0\n",
      "MONTH             0.0\n",
      "WEEK_OF_YEAR      0.0\n",
      "POLYLINE_LIST     0.0\n",
      "START_LON         0.0\n",
      "START_LAT         0.0\n",
      "Call_type         0.0\n",
      "TOTAL_DISTANCE    0.0\n",
      "BEARING           0.0\n",
      "TRIP_DURATION     0.0\n",
      "AVG_SPEED         0.0\n",
      "dtype: float64\n",
      "\n",
      "Overall percentage of missing data in Test Dataset:\n",
      "0.00%\n"
     ]
    }
   ],
   "source": [
    "# Drop rows where TRIP_DURATION, TOTAL_DISTANCE, or AVG_SPEED is NaN\n",
    "train = train.dropna(subset=['TRIP_DURATION', 'TOTAL_DISTANCE', 'AVG_SPEED'])\n",
    "# Drop rows where TRIP_DURATION, TOTAL_DISTANCE, or AVG_SPEED is NaN\n",
    "test = test.dropna(subset=['TRIP_DURATION', 'TOTAL_DISTANCE', 'AVG_SPEED'])\n",
    "\n",
    "\n",
    "# Calculate percentage of missing data per column for train and test datasets\n",
    "train_missing_percent = train.isnull().mean() * 100\n",
    "test_missing_percent = test.isnull().mean() * 100\n",
    "\n",
    "# Calculate overall percentage of missing data in train and test datasets\n",
    "train_total_missing_percent = train.isnull().sum().sum() / (train.shape[0] * train.shape[1]) * 100\n",
    "test_total_missing_percent = test.isnull().sum().sum() / (test.shape[0] * test.shape[1]) * 100\n",
    "\n",
    "# Display the results\n",
    "print(\"Percentage of missing data per column in Train Dataset:\")\n",
    "print(train_missing_percent)\n",
    "\n",
    "print(\"\\nOverall percentage of missing data in Train Dataset:\")\n",
    "print(f\"{train_total_missing_percent:.2f}%\")\n",
    "\n",
    "print(\"\\nPercentage of missing data per column in Test Dataset:\")\n",
    "print(test_missing_percent)\n",
    "\n",
    "print(\"\\nOverall percentage of missing data in Test Dataset:\")\n",
    "print(f\"{test_total_missing_percent:.2f}%\")"
   ]
  },
  {
   "cell_type": "code",
   "execution_count": 21,
   "metadata": {},
   "outputs": [
    {
     "name": "stdout",
     "output_type": "stream",
     "text": [
      "Validation MAE: 171.28 seconds\n",
      "Validation RMSE: 397.31 seconds\n"
     ]
    },
    {
     "data": {
      "image/png": "[encoded data removed]",
      "text/plain": [
       "<Figure size 1200x800 with 1 Axes>"
      ]
     },
     "metadata": {},
     "output_type": "display_data"
    },
    {
     "name": "stdout",
     "output_type": "stream",
     "text": [
      "  TRIP_ID  PREDICTED_DURATION\n",
      "0      T1             1265.85\n",
      "1      T2              658.65\n",
      "2      T3              727.05\n",
      "3      T4              469.95\n",
      "4      T5               16.95\n"
     ]
    }
   ],
   "source": [
    "feature_cols = [\n",
    "    'HOUR', 'DAY_OF_WEEK', 'MONTH', 'WEEK_OF_YEAR',\n",
    "    'START_LON', 'START_LAT',\n",
    "    'TOTAL_DISTANCE', \n",
    "    'Call_type',\n",
    "    'BEARING'\n",
    "]\n",
    "\n",
    "# Drop any rows with missing in feature_cols in train\n",
    "train_rf = train.dropna(subset=feature_cols + ['TRIP_DURATION'])\n",
    "\n",
    "# Prepare feature matrix and target\n",
    "X = train_rf[feature_cols]\n",
    "y = train_rf['TRIP_DURATION']\n",
    "\n",
    "# Prepare test feature matrix\n",
    "X_test = test[feature_cols]\n",
    "\n",
    "# Split train into training and validation sets\n",
    "X_train, X_val, y_train, y_val = train_test_split(X, y, test_size=0.2, random_state=42)\n",
    "\n",
    "# Initialize Random Forest Regressor\n",
    "rf = RandomForestRegressor(\n",
    "    n_estimators=100,\n",
    "    max_depth=None,\n",
    "    random_state=42,\n",
    "    n_jobs=-1\n",
    ")\n",
    "\n",
    "# Train the model\n",
    "rf.fit(X_train, y_train)\n",
    "\n",
    "# Predict on validation set\n",
    "y_pred_val = rf.predict(X_val)\n",
    "\n",
    "# Evaluate\n",
    "mae = mean_absolute_error(y_val, y_pred_val)\n",
    "rmse = math.sqrt(mean_squared_error(y_val, y_pred_val))\n",
    "print(f\"Validation MAE: {mae:.2f} seconds\")\n",
    "print(f\"Validation RMSE: {rmse:.2f} seconds\")\n",
    "\n",
    "# Optional: Plot feature importances\n",
    "importances = rf.feature_importances_\n",
    "feature_importances = pd.Series(importances, index=feature_cols).sort_values(ascending=False)\n",
    "plt.figure(figsize=(12,8))\n",
    "sns.barplot(x=feature_importances, y=feature_importances.index)\n",
    "plt.title(\"Feature Importances\")\n",
    "plt.xlabel(\"Importance Score\")\n",
    "plt.ylabel(\"Features\")\n",
    "plt.show()\n",
    "\n",
    "# Predict on test\n",
    "test['PREDICTED_DURATION'] = rf.predict(X_test)\n",
    "\n",
    "# Display predictions\n",
    "print(test[['TRIP_ID', 'PREDICTED_DURATION']].head())\n",
    "\n",
    "# Optionally, save predictions to a CSV\n",
    "test[['TRIP_ID', 'PREDICTED_DURATION']].to_csv('predicted_durations.csv', index=False)"
   ]
  },
  {
   "cell_type": "code",
   "execution_count": 22,
   "metadata": {},
   "outputs": [
    {
     "name": "stdout",
     "output_type": "stream",
     "text": [
      "Validation MAE: 171.28 seconds\n",
      "Validation RMSE: 397.31 seconds\n",
      "Validation R² Score: 0.6011\n"
     ]
    }
   ],
   "source": [
    "from sklearn.metrics import mean_absolute_error, mean_squared_error, r2_score\n",
    "r2 = r2_score(y_val, y_pred_val)\n",
    "\n",
    "print(f\"Validation MAE: {mae:.2f} seconds\")\n",
    "print(f\"Validation RMSE: {rmse:.2f} seconds\")\n",
    "print(f\"Validation R² Score: {r2:.4f}\")"
   ]
  },
  {
   "cell_type": "code",
   "execution_count": null,
   "metadata": {},
   "outputs": [],
   "source": [
    "import pandas as pd\n",
    "import numpy as np\n",
    "from sklearn.ensemble import GradientBoostingRegressor\n",
    "from sklearn.model_selection import train_test_split\n",
    "from sklearn.metrics import mean_absolute_error, mean_squared_error, r2_score\n",
    "import math\n",
    "import seaborn as sns\n",
    "import matplotlib.pyplot as plt\n",
    "\n",
    "feature_cols = [\n",
    "    'HOUR', 'DAY_OF_WEEK', 'MONTH', 'WEEK_OF_YEAR',\n",
    "    'START_LON', 'START_LAT',\n",
    "    'TOTAL_DISTANCE', \n",
    "    'Call_type',\n",
    "    'BEARING'\n",
    "]\n",
    "\n",
    "# Drop any rows with missing in feature_cols in train\n",
    "train = train.dropna(subset=feature_cols + ['TRIP_DURATION'])\n",
    "\n",
    "# Prepare feature matrix and target\n",
    "X = train[feature_cols]\n",
    "y = train['TRIP_DURATION']\n",
    "\n",
    "# Prepare test feature matrix\n",
    "X_test = test[feature_cols]\n",
    "\n",
    "X_train, X_val, y_train, y_val = train_test_split(X, y, test_size=0.2, random_state=42)\n",
    "\n",
    "gb = GradientBoostingRegressor(\n",
    "    n_estimators=100,\n",
    "    learning_rate=0.1,\n",
    "    max_depth=3,\n",
    "    random_state=42\n",
    ")\n",
    "\n",
    "gb.fit(X_train, y_train)\n",
    "\n",
    "y_pred_val = gb.predict(X_val)\n",
    "mae = mean_absolute_error(y_val, y_pred_val)\n",
    "rmse = math.sqrt(mean_squared_error(y_val, y_pred_val))\n",
    "r2 = r2_score(y_val, y_pred_val)\n",
    "\n",
    "print(f\"Validation MAE: {mae:.2f} seconds\")\n",
    "print(f\"Validation RMSE: {rmse:.2f} seconds\")\n",
    "print(f\"Validation R² Score: {r2:.4f}\")\n",
    "\n",
    "importances = gb.feature_importances_\n",
    "feature_importances = pd.Series(importances, index=feature_cols).sort_values(ascending=False)\n",
    "\n",
    "plt.figure(figsize=(12, 8))\n",
    "sns.barplot(x=feature_importances, y=feature_importances.index, palette='viridis')\n",
    "plt.title(\"Feature Importances in Gradient Boosting Model\")\n",
    "plt.xlabel(\"Importance Score\")\n",
    "plt.ylabel(\"Features\")\n",
    "plt.tight_layout()\n",
    "plt.show()\n",
    "\n",
    "# Combine actual and predicted values into a DataFrame for easier handling\n",
    "validation_results = pd.DataFrame({\n",
    "    'Actual_Duration': y_val.reset_index(drop=True),\n",
    "    'Predicted_Duration': y_pred_val\n",
    "}).reset_index(drop=True)\n",
    "\n",
    "# Sort by Actual Duration\n",
    "validation_results_sorted = validation_results.sort_values(by='Actual_Duration').reset_index(drop=True)\n",
    "\n",
    "# Sample 100 Equally Spaced Points\n",
    "sample_size = 100\n",
    "total_points = len(validation_results_sorted)\n",
    "\n",
    "# Calculate step size to evenly sample the data\n",
    "step = max(total_points // sample_size, 1)\n",
    "\n",
    "# Select indices for sampling\n",
    "sample_indices = np.arange(0, total_points, step)[:sample_size]\n",
    "\n",
    "# Extract the sampled data\n",
    "sampled_validation = validation_results_sorted.iloc[sample_indices].reset_index(drop=True)\n",
    "\n",
    "# Plot Actual vs Predicted Durations (Line Plot)\n",
    "plt.figure(figsize=(14, 7))\n",
    "plt.plot(sampled_validation.index, sampled_validation['Actual_Duration'], label='Actual Duration', color='blue', marker='o')\n",
    "plt.plot(sampled_validation.index, sampled_validation['Predicted_Duration'], label='Predicted Duration', color='orange', marker='x')\n",
    "plt.title(\"Actual vs Predicted Trip Duration for 100 Test Trips\")\n",
    "plt.xlabel(\"Trip Index (sorted by Actual Duration)\")\n",
    "plt.ylabel(\"Duration (seconds)\")\n",
    "plt.legend()\n",
    "plt.grid(True)\n",
    "plt.tight_layout()\n",
    "plt.show()\n",
    "\n",
    "# Predict on test\n",
    "test['PREDICTED_DURATION'] = gb.predict(X_test)\n",
    "\n",
    "# Display predictions\n",
    "print(test[['TRIP_ID', 'PREDICTED_DURATION']].head())\n",
    "\n",
    "# Optionally, save predictions to a CSV\n",
    "test[['TRIP_ID', 'PREDICTED_DURATION']].to_csv('predicted_durations_gradient_boosting.csv', index=False)\n",
    "print(\"Predictions saved to 'predicted_durations_gradient_boosting.csv'\")\n"
   ]
  }
 ],
 "metadata": {
  "kernelspec": {
   "display_name": "Python 3 (ipykernel)",
   "language": "python",
   "name": "python3"
  },
  "language_info": {
   "codemirror_mode": {
    "name": "ipython",
    "version": 3
   },
   "file_extension": ".py",
   "mimetype": "text/x-python",
   "name": "python",
   "nbconvert_exporter": "python",
   "pygments_lexer": "ipython3",
   "version": "3.9.13"
  }
 },
 "nbformat": 4,
 "nbformat_minor": 2
}
